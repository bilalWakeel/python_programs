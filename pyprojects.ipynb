{
 "cells": [
  {
   "cell_type": "code",
   "execution_count": 1,
   "metadata": {},
   "outputs": [
    {
     "name": "stdout",
     "output_type": "stream",
     "text": [
      "namebil\n",
      "hello bil\n"
     ]
    }
   ],
   "source": [
    "a=input('name')\n",
    "print('hello',a)"
   ]
  },
  {
   "cell_type": "code",
   "execution_count": 2,
   "metadata": {},
   "outputs": [
    {
     "name": "stdout",
     "output_type": "stream",
     "text": [
      "1st num21\n",
      "2nd num21\n",
      "441\n"
     ]
    }
   ],
   "source": [
    "a=int(input('1st num'))\n",
    "b=int(input('2nd num'))\n",
    "print(a*b)"
   ]
  },
  {
   "cell_type": "code",
   "execution_count": 3,
   "metadata": {},
   "outputs": [
    {
     "name": "stdout",
     "output_type": "stream",
     "text": [
      "1st num21\n",
      "2nd num21\n",
      "441\n"
     ]
    }
   ],
   "source": [
    "a=int(input('1st num'))\n",
    "b=int(input('2nd num'))\n",
    "print(a*b)"
   ]
  },
  {
   "cell_type": "code",
   "execution_count": 4,
   "metadata": {},
   "outputs": [
    {
     "name": "stdout",
     "output_type": "stream",
     "text": [
      "whight2121\n",
      "you are fat bcz 2121\n"
     ]
    }
   ],
   "source": [
    "a=int(input('whight'))\n",
    "if a>=60:\n",
    "    print('you are fat bcz',a)\n",
    "else:\n",
    "    print('you are not fat')"
   ]
  },
  {
   "cell_type": "code",
   "execution_count": null,
   "metadata": {},
   "outputs": [],
   "source": []
  },
  {
   "cell_type": "code",
   "execution_count": null,
   "metadata": {},
   "outputs": [
    {
     "name": "stdout",
     "output_type": "stream",
     "text": [
      "sci:21\n",
      "math:21\n",
      "ICT:32\n",
      "F you are failed\n",
      "24.666666666666668\n"
     ]
    }
   ],
   "source": [
    "a=int(input('sci:'))\n",
    "b=int(input('math:'))\n",
    "c=int(input('ICT:'))\n",
    "l=a+b+c\n",
    "m=l/300\n",
    "perc=m*100\n",
    "if perc>=80:\n",
    "    print('you got A grade')\n",
    "elif perc>=70:\n",
    "    print('B grade')\n",
    "elif perc>=60:\n",
    "    print('C grade')\n",
    "else:\n",
    "    print('F you are failed')\n",
    "print(perc)    \n",
    "    "
   ]
  },
  {
   "cell_type": "code",
   "execution_count": null,
   "metadata": {},
   "outputs": [
    {
     "name": "stdout",
     "output_type": "stream",
     "text": [
      "test score:32\n",
      "failed.....\n"
     ]
    }
   ],
   "source": [
    "a=int(input('test score:'))\n",
    "if a>=80:\n",
    "    print('A')\n",
    "else:\n",
    "    if a>=70:\n",
    "        print('B')\n",
    "    else:\n",
    "        if a>=60:\n",
    "            print('C')\n",
    "        else:\n",
    "            if a>=50:\n",
    "                print('D')\n",
    "            else:\n",
    "                print('failed.....')"
   ]
  },
  {
   "cell_type": "code",
   "execution_count": null,
   "metadata": {},
   "outputs": [
    {
     "name": "stdout",
     "output_type": "stream",
     "text": [
      "guess:32\n",
      "try again\n"
     ]
    }
   ],
   "source": [
    "temp=60\n",
    "a=int(input('guess:'))\n",
    "if a==temp:\n",
    "    print('you guesed it right')\n",
    "else:\n",
    "    print('try again')"
   ]
  },
  {
   "cell_type": "code",
   "execution_count": null,
   "metadata": {},
   "outputs": [
    {
     "name": "stdout",
     "output_type": "stream",
     "text": [
      "0\n",
      "1\n",
      "2\n",
      "3\n",
      "4\n",
      "5\n",
      "6\n"
     ]
    }
   ],
   "source": [
    "for i in range(7):\n",
    "    print(i)\n",
    "    "
   ]
  },
  {
   "cell_type": "code",
   "execution_count": null,
   "metadata": {},
   "outputs": [],
   "source": [
    "a=1\n",
    "while a>6:\n",
    "    a=a+5\n",
    "    print(a)"
   ]
  },
  {
   "cell_type": "code",
   "execution_count": null,
   "metadata": {},
   "outputs": [
    {
     "name": "stdout",
     "output_type": "stream",
     "text": [
      "number:32\n",
      "try again\n",
      "number:43\n",
      "try again\n",
      "number:43\n",
      "try again\n",
      "number:34\n",
      "try again\n",
      "number:433423\n",
      "try again\n"
     ]
    }
   ],
   "source": [
    "b=67\n",
    "while True:\n",
    "    a=int(input('number:'))\n",
    "    if a==b:\n",
    "        print('you guesed it wriht')\n",
    "        break\n",
    "    else:\n",
    "        print('try again')\n",
    "        \n",
    "    "
   ]
  },
  {
   "cell_type": "code",
   "execution_count": null,
   "metadata": {},
   "outputs": [],
   "source": [
    "guess=80\n",
    "a=int(input('guess:'))\n",
    "if a==guess:\n",
    "    print('sahi bola')\n",
    "else:\n",
    "    while a!=guess:\n",
    "        print('try again')\n",
    "        a=int(input('gues:'))\n",
    "        \n",
    "print('fainaly sahi guess kar hi lia')        "
   ]
  },
  {
   "cell_type": "code",
   "execution_count": null,
   "metadata": {},
   "outputs": [],
   "source": [
    "inc=0\n",
    "sumw=0\n",
    "sumh=0\n",
    "while inc<=1000:\n",
    "    inc=inc+1\n",
    "    hight=int(input('hight:'))\n",
    "    h=sumh+hight\n",
    "    whight=int(input('wazan bato:'))\n",
    "    w=sumw+whight\n",
    "avh=h/1000\n",
    "avw=w/1000\n",
    "print('hight is',avh,'whight is',avw )\n",
    "    \n",
    "    "
   ]
  },
  {
   "cell_type": "code",
   "execution_count": null,
   "metadata": {},
   "outputs": [],
   "source": [
    "import random\n",
    "guess= random.randrange(20)\n",
    "a=int(input('guess:'))\n",
    "if a==guess:\n",
    "    print('sahi bola')\n",
    "else:\n",
    "    \n",
    "    while a!=guess:\n",
    "        print('try again')\n",
    "        a=int(input('guess:'))\n",
    "        \n",
    "print('fainaly sahi guess kar hi lia')   #random.randrange(20)"
   ]
  },
  {
   "cell_type": "code",
   "execution_count": null,
   "metadata": {},
   "outputs": [],
   "source": [
    "start=2\n",
    "stop=13\n",
    "for index in range (start,stop):\n",
    "    print(12*index)\n"
   ]
  },
  {
   "cell_type": "code",
   "execution_count": null,
   "metadata": {},
   "outputs": [],
   "source": [
    "import random\n",
    "guess= random.randrange(20)\n",
    "a=int(input('guess:'))\n",
    "if a==guess:\n",
    "    print('sahi bola')\n",
    "else:\n",
    "    \n",
    "    while a!=guess:\n",
    "        print('try again')\n",
    "        a=int(input('guess:'))\n",
    "        \n",
    "print('fainaly sahi guess kar hi lia')   #random.randrange(20)"
   ]
  },
  {
   "cell_type": "code",
   "execution_count": 1,
   "metadata": {},
   "outputs": [
    {
     "name": "stdout",
     "output_type": "stream",
     "text": [
      "guess:76\n",
      "try again\n",
      "guess:67\n",
      "try again\n",
      "guess:76\n",
      "try again\n",
      "guess:67\n",
      "fainaly sahi guess kar hi lia\n"
     ]
    }
   ],
   "source": [
    "count=0\n",
    "import random\n",
    "guess= random.randrange(20)\n",
    "a=int(input('guess:'))\n",
    "if a==guess:\n",
    "    print('sahi bola')\n",
    "else:\n",
    "    while a!=guess:\n",
    "        print('try again')\n",
    "        a=int(input('guess:'))\n",
    "        count=count+1\n",
    "        if count==2:\n",
    "            break"
   ]
  },
  {
   "cell_type": "code",
   "execution_count": 21,
   "metadata": {},
   "outputs": [
    {
     "data": {
      "text/plain": [
       "15"
      ]
     },
     "execution_count": 21,
     "metadata": {},
     "output_type": "execute_result"
    }
   ],
   "source": [
    "total=0\n",
    "for i in range(1,6):\n",
    "    total=total+i\n",
    "total    \n",
    "    \n"
   ]
  },
  {
   "cell_type": "code",
   "execution_count": 3,
   "metadata": {},
   "outputs": [
    {
     "name": "stdout",
     "output_type": "stream",
     "text": [
      "contry namemexico\n",
      "numHours1\n",
      "num_mins20\n",
      "the time is -6 : 20\n"
     ]
    }
   ],
   "source": [
    "a=input('contry name')\n",
    "b=int(input('numHours'))\n",
    "c=int(input('num_mins'))\n",
    "if a==\"mexico\":\n",
    "    b=b-7\n",
    "elif a==\"india\":\n",
    "    b=b+4\n",
    "    c=c+30\n",
    "elif a==\"newzeland\":\n",
    "    b=b+11\n",
    "print('the time is',b,':',c)"
   ]
  },
  {
   "cell_type": "code",
   "execution_count": null,
   "metadata": {},
   "outputs": [],
   "source": []
  }
 ],
 "metadata": {
  "kernelspec": {
   "display_name": "Python 3",
   "language": "python",
   "name": "python3"
  },
  "language_info": {
   "codemirror_mode": {
    "name": "ipython",
    "version": 3
   },
   "file_extension": ".py",
   "mimetype": "text/x-python",
   "name": "python",
   "nbconvert_exporter": "python",
   "pygments_lexer": "ipython3",
   "version": "3.7.4"
  }
 },
 "nbformat": 4,
 "nbformat_minor": 2
}
