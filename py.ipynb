{
 "cells": [
  {
   "cell_type": "code",
   "execution_count": 5,
   "metadata": {},
   "outputs": [
    {
     "name": "stdout",
     "output_type": "stream",
     "text": [
      "enter num:56\n",
      "enter num:43\n",
      "enter num:54\n",
      "enter num:4\n",
      "enter num:4\n",
      "enter num:5\n",
      "enter num:6\n",
      "enter num:6\n",
      "enter num:7\n",
      "enter num:7\n",
      "average is 19.2\n"
     ]
    }
   ],
   "source": [
    "inc=0\n",
    "total=0\n",
    "for i in range(1,11):\n",
    "    num=int(input(\"enter num:\"))\n",
    "    inc=inc+1\n",
    "    total=total+num\n",
    "print('average is',total/inc)    \n",
    "    \n",
    "    "
   ]
  },
  {
   "cell_type": "code",
   "execution_count": 7,
   "metadata": {},
   "outputs": [
    {
     "name": "stdout",
     "output_type": "stream",
     "text": [
      "enter num person6\n",
      "enter num games6\n",
      "61.2\n"
     ]
    }
   ],
   "source": [
    "xtracos=0\n",
    "npeople=int(input(\"enter num person\"))\n",
    "ngames=int(input(\"enter num games\"))\n",
    "cost=ngames*10\n",
    "xtrap=npeople-2\n",
    "if npeople>2:\n",
    "    xtracos=2*xtrap\n",
    "cost=xtracos+cost    \n",
    "if ngames>1:\n",
    "    cost=cost*0.9\n",
    "print(cost)    \n",
    "    "
   ]
  },
  {
   "cell_type": "code",
   "execution_count": null,
   "metadata": {},
   "outputs": [],
   "source": []
  }
 ],
 "metadata": {
  "kernelspec": {
   "display_name": "Python 3",
   "language": "python",
   "name": "python3"
  }
 },
 "nbformat": 4,
 "nbformat_minor": 2
}
