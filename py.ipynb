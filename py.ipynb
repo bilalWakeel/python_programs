{
 "cells": [
  {
   "cell_type": "code",
   "execution_count": 5,
   "metadata": {},
   "outputs": [
    {
     "name": "stdout",
     "output_type": "stream",
     "text": [
      "enter num:56\n",
      "enter num:43\n",
      "enter num:54\n",
      "enter num:4\n",
      "enter num:4\n",
      "enter num:5\n",
      "enter num:6\n",
      "enter num:6\n",
      "enter num:7\n",
      "enter num:7\n",
      "average is 19.2\n"
     ]
    }
   ],
   "source": [
    "inc=0\n",
    "total=0\n",
    "for i in range(1,11):\n",
    "    num=int(input(\"enter num:\"))\n",
    "    inc=inc+1\n",
    "    total=total+num\n",
    "print('average is',total/inc)    \n",
    "    \n",
    "    "
   ]
  }
 ],
 "metadata": {
  "kernelspec": {
   "display_name": "Python 3",
   "language": "python",
   "name": "python3"
  }
 },
 "nbformat": 4,
 "nbformat_minor": 2
}
