{
 "cells": [
  {
   "cell_type": "code",
   "execution_count": null,
   "metadata": {},
   "outputs": [
    {
     "name": "stdout",
     "output_type": "stream",
     "text": [
      "charge is 15\n",
      "pese dalo67\n",
      "ea lo apne 10 rupey\n",
      "ea lo apne 10 rupey\n",
      "ea lo apne 10 rupey\n",
      "ea lo apne 10 rupey\n",
      "ea lo apne 10 rupey\n",
      "ea lo apne 2 rupey\n",
      "charge is 15\n"
     ]
    }
   ],
   "source": [
    "import random\n",
    "prk_chrg=random.randrange(20)\n",
    "pay=0\n",
    "while pay<prk_chrg or pay>20:\n",
    "    print('charge is',prk_chrg)\n",
    "    pay=int(input('pese dalo'))\n",
    "    bakaya=pay-prk_chrg\n",
    "    while bakaya>=10:\n",
    "        print('ea lo apne 10 rupey')\n",
    "        bakaya=bakaya-10\n",
    "    while bakaya>=5:\n",
    "        print('ea lo apne 5 rupey')\n",
    "        bakaya=bakaya-5\n",
    "    while bakaya>=2:\n",
    "        print('ea lo apne 2 rupey')\n",
    "        bakaya=bakaya-2\n",
    "        "
   ]
  },
  {
   "cell_type": "code",
   "execution_count": null,
   "metadata": {},
   "outputs": [],
   "source": []
  }
 ],
 "metadata": {
  "kernelspec": {
   "display_name": "Python 3",
   "language": "python",
   "name": "python3"
  },
  "language_info": {
   "codemirror_mode": {
    "name": "ipython",
    "version": 3
   },
   "file_extension": ".py",
   "mimetype": "text/x-python",
   "name": "python",
   "nbconvert_exporter": "python",
   "pygments_lexer": "ipython3",
   "version": "3.7.4"
  }
 },
 "nbformat": 4,
 "nbformat_minor": 2
}
