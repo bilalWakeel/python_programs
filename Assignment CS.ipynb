{
 "cells": [
  {
   "cell_type": "code",
   "execution_count": 6,
   "metadata": {},
   "outputs": [
    {
     "name": "stdout",
     "output_type": "stream",
     "text": [
      "enter a nuber7\n",
      "enter a nuber4\n",
      "enter a nuber9\n",
      "enter a nuber3\n",
      "enter a nuber8\n",
      "[7, 4, 9, 3, 8]\n",
      "7\n",
      "9\n",
      "4\n",
      "8\n",
      "3\n"
     ]
    }
   ],
   "source": [
    "b=[]\n",
    "for i in range(5):\n",
    "    a=int(input('enter a nuber'))\n",
    "    b.append(a)\n",
    "print(b)\n",
    "swag=1\n",
    "while swag!=0:\n",
    "    i=0\n",
    "    swag=0\n",
    "    while i<4:\n",
    "        if b[i]<b[i+1]:\n",
    "            x=b[i]\n",
    "            b[i]=b[i+1]\n",
    "            b[i+1]=x\n",
    "            swap=1\n",
    "        i=i+1\n",
    "for i in b:\n",
    "    print(i)"
   ]
  },
  {
   "cell_type": "code",
   "execution_count": 10,
   "metadata": {},
   "outputs": [
    {
     "name": "stdout",
     "output_type": "stream",
     "text": [
      "the position of 3 is on 2 index\n"
     ]
    }
   ],
   "source": [
    "my_list=[1,2,3,5,8]\n",
    "for i in range(5):\n",
    "     if my_list[i]==3:\n",
    "            print('the position of 3 is on',i,'index')\n",
    "            break   "
   ]
  },
  {
   "cell_type": "code",
   "execution_count": null,
   "metadata": {},
   "outputs": [],
   "source": []
  }
 ],
 "metadata": {
  "kernelspec": {
   "display_name": "Python 3",
   "language": "python",
   "name": "python3"
  },
  "language_info": {
   "codemirror_mode": {
    "name": "ipython",
    "version": 3
   },
   "file_extension": ".py",
   "mimetype": "text/x-python",
   "name": "python",
   "nbconvert_exporter": "python",
   "pygments_lexer": "ipython3",
   "version": "3.7.4"
  }
 },
 "nbformat": 4,
 "nbformat_minor": 2
}
